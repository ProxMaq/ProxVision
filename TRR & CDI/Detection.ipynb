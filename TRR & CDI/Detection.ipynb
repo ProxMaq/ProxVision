{
  "nbformat": 4,
  "nbformat_minor": 0,
  "metadata": {
    "accelerator": "GPU",
    "colab": {
      "name": "Detection.ipynb",
      "provenance": [],
      "machine_shape": "hm",
      "mount_file_id": "1-B2-1E21vb_KDFeMh7m6XKO0maYMz2kS",
      "authorship_tag": "ABX9TyOFKY/w2gu2pkjbx5GWE4D3",
      "include_colab_link": true
    },
    "kernelspec": {
      "display_name": "Python 3",
      "name": "python3"
    },
    "language_info": {
      "name": "python"
    }
  },
  "cells": [
    {
      "cell_type": "markdown",
      "metadata": {
        "id": "view-in-github",
        "colab_type": "text"
      },
      "source": [
        "<a href=\"https://colab.research.google.com/github/ProxMaq/ProxVision/blob/main/TRR%20%26%20CDI/Detection.ipynb\" target=\"_parent\"><img src=\"https://colab.research.google.com/assets/colab-badge.svg\" alt=\"Open In Colab\"/></a>"
      ]
    },
    {
      "cell_type": "code",
      "metadata": {
        "id": "BJoYzBwY5xMU"
      },
      "source": [
        "import tensorflow as tf\n",
        "from tensorflow import keras\n",
        "from tensorflow.keras import layers\n",
        "from tensorflow.keras.preprocessing.image import ImageDataGenerator"
      ],
      "execution_count": null,
      "outputs": []
    },
    {
      "cell_type": "code",
      "metadata": {
        "id": "ukwR6va66IxZ"
      },
      "source": [
        "img_height=28\n",
        "img_width=28\n",
        "batch_size=2"
      ],
      "execution_count": null,
      "outputs": []
    },
    {
      "cell_type": "code",
      "metadata": {
        "colab": {
          "base_uri": "https://localhost:8080/"
        },
        "id": "d6TxZ8777gAT",
        "outputId": "fab552e9-3c78-487e-c943-480fc4092b15"
      },
      "source": [
        "from google.colab import drive\n",
        "drive.mount('/content/drive')"
      ],
      "execution_count": null,
      "outputs": [
        {
          "name": "stdout",
          "output_type": "stream",
          "text": [
            "Drive already mounted at /content/drive; to attempt to forcibly remount, call drive.mount(\"/content/drive\", force_remount=True).\n"
          ]
        }
      ]
    },
    {
      "cell_type": "code",
      "metadata": {
        "colab": {
          "base_uri": "https://localhost:8080/"
        },
        "id": "vIGQ5Ws2-hSc",
        "outputId": "a38c4d64-5883-41c7-c6d1-57bb4ac8c2e1"
      },
      "source": [
        "!ls"
      ],
      "execution_count": null,
      "outputs": [
        {
          "name": "stdout",
          "output_type": "stream",
          "text": [
            "Detection  drive  sample_data\n"
          ]
        }
      ]
    },
    {
      "cell_type": "code",
      "metadata": {
        "colab": {
          "base_uri": "https://localhost:8080/"
        },
        "id": "9k3Hp0n3Eida",
        "outputId": "5bec1a06-28e9-41bd-cb8e-183c1854baa3"
      },
      "source": [
        "!unzip '/content/drive/MyDrive/Detection.zip' -d '/content/Detection'"
      ],
      "execution_count": null,
      "outputs": [
        {
          "name": "stdout",
          "output_type": "stream",
          "text": [
            "Archive:  /content/drive/MyDrive/Detection.zip\n",
            "replace /content/Detection/Detection/Currency/1.jpg? [y]es, [n]o, [A]ll, [N]one, [r]ename: "
          ]
        }
      ]
    },
    {
      "cell_type": "code",
      "metadata": {
        "id": "_Ger4g7d6UKF"
      },
      "source": [
        "model=keras.Sequential([\n",
        "    layers.Input((28,28,1)),\n",
        "    layers.Conv2D(16,3,padding='same'),\n",
        "    layers.Conv2D(32,3,padding='same'),\n",
        "    layers.MaxPooling2D(),\n",
        "    layers.Flatten(),\n",
        "    layers.Dense(2),\n",
        "                        \n",
        "])"
      ],
      "execution_count": null,
      "outputs": []
    },
    {
      "cell_type": "code",
      "metadata": {
        "colab": {
          "base_uri": "https://localhost:8080/"
        },
        "id": "4yDEIX8G6mpg",
        "outputId": "3b4fc8ea-ec14-44d6-f8bf-51534f353705"
      },
      "source": [
        "ds_train=tf.keras.preprocessing.image_dataset_from_directory('/content/Detection/Detection', \n",
        "                                                             labels='inferred',\n",
        "                                                             label_mode=\"int\",\n",
        "                                                             color_mode='grayscale',\n",
        "                                                             batch_size=batch_size,\n",
        "                                                             image_size=(img_height,img_width),\n",
        "                                                             shuffle=True,\n",
        "                                                             seed=123,\n",
        "                                                             validation_split=0.1,\n",
        "                                                             subset=\"training\")"
      ],
      "execution_count": null,
      "outputs": [
        {
          "name": "stdout",
          "output_type": "stream",
          "text": [
            "Found 399 files belonging to 2 classes.\n",
            "Using 360 files for training.\n"
          ]
        }
      ]
    },
    {
      "cell_type": "code",
      "metadata": {
        "colab": {
          "base_uri": "https://localhost:8080/"
        },
        "id": "VM3JuelE6mzs",
        "outputId": "009f0a2c-100d-4796-92d6-657b75ab684b"
      },
      "source": [
        "ds_valid=tf.keras.preprocessing.image_dataset_from_directory('/content/Detection/Detection', \n",
        "                                                             labels='inferred',\n",
        "                                                             label_mode=\"int\",\n",
        "                                                             color_mode='grayscale',\n",
        "                                                             batch_size=batch_size,\n",
        "                                                             image_size=(img_height,img_width),\n",
        "                                                             shuffle=True,\n",
        "                                                             seed=123,\n",
        "                                                             validation_split=0.1,\n",
        "                                                             subset=\"validation\")"
      ],
      "execution_count": null,
      "outputs": [
        {
          "name": "stdout",
          "output_type": "stream",
          "text": [
            "Found 399 files belonging to 2 classes.\n",
            "Using 39 files for validation.\n"
          ]
        }
      ]
    },
    {
      "cell_type": "code",
      "metadata": {
        "id": "GRYYYTG86m2V"
      },
      "source": [
        "def augment(x,y):\n",
        "  image=tf.image.random_brightness(x,max_delta=0.5)\n",
        "  return image,y"
      ],
      "execution_count": null,
      "outputs": []
    },
    {
      "cell_type": "code",
      "metadata": {
        "id": "BC0lMTX56m49"
      },
      "source": [
        "ds_train=ds_train.map(augment)"
      ],
      "execution_count": null,
      "outputs": []
    },
    {
      "cell_type": "code",
      "metadata": {
        "id": "xJdTd14T6m8g"
      },
      "source": [
        "model.compile(\n",
        "    optimizer=keras.optimizers.Adam(),\n",
        "    loss=[keras.losses.SparseCategoricalCrossentropy(from_logits=True),],\n",
        "    metrics=[\"accuracy\"],\n",
        "\n",
        ")"
      ],
      "execution_count": null,
      "outputs": []
    },
    {
      "cell_type": "code",
      "metadata": {
        "colab": {
          "base_uri": "https://localhost:8080/"
        },
        "id": "xhBKsWudNfUh",
        "outputId": "457a1ed7-d2a5-4f56-af26-e512f39d5c7c"
      },
      "source": [
        "history=model.fit(ds_train,validation_data=ds_valid,epochs=20,verbose=2)"
      ],
      "execution_count": null,
      "outputs": [
        {
          "name": "stdout",
          "output_type": "stream",
          "text": [
            "Epoch 1/20\n",
            "180/180 - 5s - loss: 13.8601 - accuracy: 0.6778 - val_loss: 15.9607 - val_accuracy: 0.6923\n",
            "Epoch 2/20\n",
            "180/180 - 1s - loss: 5.0723 - accuracy: 0.8222 - val_loss: 12.4338 - val_accuracy: 0.6923\n",
            "Epoch 3/20\n",
            "180/180 - 1s - loss: 1.5863 - accuracy: 0.9194 - val_loss: 12.2420 - val_accuracy: 0.7436\n",
            "Epoch 4/20\n",
            "180/180 - 1s - loss: 1.3140 - accuracy: 0.9167 - val_loss: 14.6210 - val_accuracy: 0.6667\n",
            "Epoch 5/20\n",
            "180/180 - 1s - loss: 1.1163 - accuracy: 0.9444 - val_loss: 26.1964 - val_accuracy: 0.7436\n",
            "Epoch 6/20\n",
            "180/180 - 1s - loss: 6.8734 - accuracy: 0.8444 - val_loss: 10.8267 - val_accuracy: 0.8462\n",
            "Epoch 7/20\n",
            "180/180 - 1s - loss: 0.8086 - accuracy: 0.9667 - val_loss: 11.4144 - val_accuracy: 0.8205\n",
            "Epoch 8/20\n",
            "180/180 - 1s - loss: 0.6624 - accuracy: 0.9583 - val_loss: 15.0828 - val_accuracy: 0.7692\n",
            "Epoch 9/20\n",
            "180/180 - 1s - loss: 0.4654 - accuracy: 0.9806 - val_loss: 18.6743 - val_accuracy: 0.7949\n",
            "Epoch 10/20\n",
            "180/180 - 1s - loss: 0.4938 - accuracy: 0.9778 - val_loss: 16.1824 - val_accuracy: 0.8462\n",
            "Epoch 11/20\n",
            "180/180 - 1s - loss: 0.1996 - accuracy: 0.9833 - val_loss: 19.6925 - val_accuracy: 0.7949\n",
            "Epoch 12/20\n",
            "180/180 - 1s - loss: 0.8626 - accuracy: 0.9806 - val_loss: 19.7286 - val_accuracy: 0.7436\n",
            "Epoch 13/20\n",
            "180/180 - 1s - loss: 3.1274 - accuracy: 0.9361 - val_loss: 44.1983 - val_accuracy: 0.7692\n",
            "Epoch 14/20\n",
            "180/180 - 1s - loss: 2.9016 - accuracy: 0.9389 - val_loss: 42.4292 - val_accuracy: 0.6667\n",
            "Epoch 15/20\n",
            "180/180 - 1s - loss: 1.6294 - accuracy: 0.9528 - val_loss: 49.4290 - val_accuracy: 0.7179\n",
            "Epoch 16/20\n",
            "180/180 - 1s - loss: 1.0156 - accuracy: 0.9667 - val_loss: 44.5355 - val_accuracy: 0.7949\n",
            "Epoch 17/20\n",
            "180/180 - 1s - loss: 6.0879 - accuracy: 0.9333 - val_loss: 29.9752 - val_accuracy: 0.7436\n",
            "Epoch 18/20\n",
            "180/180 - 1s - loss: 0.7012 - accuracy: 0.9833 - val_loss: 40.2508 - val_accuracy: 0.8205\n",
            "Epoch 19/20\n",
            "180/180 - 1s - loss: 1.9049 - accuracy: 0.9667 - val_loss: 30.9891 - val_accuracy: 0.7949\n",
            "Epoch 20/20\n",
            "180/180 - 1s - loss: 0.4608 - accuracy: 0.9917 - val_loss: 33.7786 - val_accuracy: 0.7179\n"
          ]
        }
      ]
    },
    {
      "cell_type": "code",
      "metadata": {
        "id": "SkNM-04dS4Se"
      },
      "source": [
        "#model.save('/content/Detection/Detection/detection_model.h5')"
      ],
      "execution_count": null,
      "outputs": []
    },
    {
      "cell_type": "code",
      "metadata": {
        "colab": {
          "base_uri": "https://localhost:8080/",
          "height": 499
        },
        "id": "hlzs7IPaqLQn",
        "outputId": "0617bd47-6ae0-4e77-8dae-075d95af23d9"
      },
      "source": [
        "import matplotlib.pyplot as plt\n",
        "\n",
        "acc = history.history['accuracy']\n",
        "val_acc = history.history['val_accuracy']\n",
        "\n",
        "loss = history.history['loss']\n",
        "val_loss = history.history['val_loss']\n",
        "\n",
        "epochs_range = range(20)\n",
        "\n",
        "plt.figure(figsize=(8, 8))\n",
        "plt.subplot(1, 2, 1)\n",
        "plt.plot(epochs_range, acc, label='Training Accuracy')\n",
        "plt.plot(epochs_range, val_acc, label='Validation Accuracy')\n",
        "plt.legend(loc='lower right')\n",
        "plt.title('Training and Validation Accuracy')\n",
        "\n",
        "plt.subplot(1, 2, 2)\n",
        "plt.plot(epochs_range, loss, label='Training Loss')\n",
        "plt.plot(epochs_range, val_loss, label='Validation Loss')\n",
        "plt.legend(loc='upper right')\n",
        "plt.title('Training and Validation Loss')\n",
        "plt.show()"
      ],
      "execution_count": null,
      "outputs": [
        {
          "data": {
            "image/png": "[encoded data removed]",
            "text/plain": [
              "<Figure size 576x576 with 2 Axes>"
            ]
          },
          "metadata": {},
          "output_type": "display_data"
        }
      ]
    },
    {
      "cell_type": "code",
      "metadata": {
        "id": "zhIaS4RSv8Re"
      },
      "source": [
        "datagen = ImageDataGenerator(\n",
        "    rescale=1.0 / 255,\n",
        "    rotation_range=5,\n",
        "    zoom_range=(0.95, 0.95),\n",
        "    horizontal_flip=False,\n",
        "    vertical_flip=False,\n",
        "    data_format=\"channels_last\",\n",
        "    validation_split=0.0,\n",
        "    dtype=tf.float32,\n",
        ")"
      ],
      "execution_count": null,
      "outputs": []
    },
    {
      "cell_type": "code",
      "metadata": {
        "colab": {
          "base_uri": "https://localhost:8080/"
        },
        "id": "CGdXcbdxv8Xd",
        "outputId": "4cf5b55b-948d-4fe8-fdf4-52b624c0cf6c"
      },
      "source": [
        "train_generator = datagen.flow_from_directory(\n",
        "    \"/content/Detection/Detection\",\n",
        "    target_size=(img_height, img_width),\n",
        "    batch_size=batch_size,\n",
        "    color_mode=\"grayscale\",\n",
        "    class_mode=\"sparse\",\n",
        "    shuffle=True,\n",
        "    subset=\"training\",\n",
        "    seed=123,\n",
        ")\n"
      ],
      "execution_count": null,
      "outputs": [
        {
          "name": "stdout",
          "output_type": "stream",
          "text": [
            "Found 399 images belonging to 2 classes.\n"
          ]
        }
      ]
    },
    {
      "cell_type": "code",
      "metadata": {
        "colab": {
          "base_uri": "https://localhost:8080/"
        },
        "id": "CjMJfZFPwyp4",
        "outputId": "c5b7c9f9-d278-4378-836c-06977856cbe3"
      },
      "source": [
        "validation_generator = datagen.flow_from_directory(\n",
        "    \"/content/Detection/Detection\",\n",
        "    target_size=(img_height, img_width),\n",
        "    batch_size=batch_size,\n",
        "    color_mode=\"grayscale\",\n",
        "    class_mode=\"sparse\",\n",
        "    shuffle=True,\n",
        "    subset=\"validation\",\n",
        "    seed=123,\n",
        ")\n"
      ],
      "execution_count": null,
      "outputs": [
        {
          "name": "stdout",
          "output_type": "stream",
          "text": [
            "Found 0 images belonging to 2 classes.\n"
          ]
        }
      ]
    },
    {
      "cell_type": "code",
      "metadata": {
        "id": "PYBGaH6ywXpj"
      },
      "source": [
        "model.compile(\n",
        "    optimizer=keras.optimizers.Adam(),\n",
        "    loss=[keras.losses.SparseCategoricalCrossentropy(from_logits=True),],\n",
        "    metrics=[\"accuracy\"],\n",
        ")"
      ],
      "execution_count": null,
      "outputs": []
    },
    {
      "cell_type": "code",
      "metadata": {
        "id": "iKV9-jP6v8ab"
      },
      "source": [
        "for epoch in range(10):\n",
        "    num_batches = 0\n",
        "\n",
        "    for x, y in ds_train:\n",
        "        num_batches += 1\n",
        "\n",
        "        if num_batches == 199:  # len(train_dataset)/batch_size\n",
        "            break"
      ],
      "execution_count": null,
      "outputs": []
    },
    {
      "cell_type": "code",
      "metadata": {
        "colab": {
          "background_save": true,
          "base_uri": "https://localhost:8080/"
        },
        "id": "XCEp0PUgv8dQ",
        "outputId": "37aada48-c0dd-4ef5-d11d-90b8638fe205"
      },
      "source": [
        "# using model.fit (note steps_per_epoch)\n",
        "model.fit(\n",
        "    train_generator,\n",
        "    epochs=10,\n",
        "    steps_per_epoch=25,\n",
        "    verbose=2,\n",
        "    # if we had a validation generator:\n",
        "    validation_data=validation_generator,\n",
        "    #valiation_steps=len(validation_set)/batch_size)\n",
        "\n",
        ")"
      ],
      "execution_count": null,
      "outputs": [
        {
          "name": "stdout",
          "output_type": "stream",
          "text": [
            "Epoch 1/20\n",
            "25/25 - 1s - loss: 0.2384 - accuracy: 0.9200\n",
            "Epoch 2/20\n",
            "25/25 - 1s - loss: 0.2370 - accuracy: 0.9200\n",
            "Epoch 3/20\n",
            "25/25 - 1s - loss: 0.3015 - accuracy: 0.9000\n",
            "Epoch 4/20\n",
            "25/25 - 1s - loss: 0.1787 - accuracy: 0.9400\n",
            "Epoch 5/20\n",
            "25/25 - 1s - loss: 0.2320 - accuracy: 0.9388\n",
            "Epoch 6/20\n",
            "25/25 - 1s - loss: 0.1643 - accuracy: 0.9400\n",
            "Epoch 7/20\n",
            "25/25 - 1s - loss: 0.1558 - accuracy: 0.9400\n",
            "Epoch 8/20\n",
            "25/25 - 1s - loss: 0.1421 - accuracy: 0.9800\n",
            "Epoch 9/20\n",
            "25/25 - 1s - loss: 0.1874 - accuracy: 0.9200\n",
            "Epoch 10/20\n",
            "25/25 - 1s - loss: 0.1677 - accuracy: 0.9000\n",
            "Epoch 11/20\n",
            "25/25 - 1s - loss: 0.0963 - accuracy: 0.9592\n",
            "Epoch 12/20\n",
            "25/25 - 1s - loss: 0.2078 - accuracy: 0.9200\n",
            "Epoch 13/20\n",
            "25/25 - 1s - loss: 0.1806 - accuracy: 0.9000\n",
            "Epoch 14/20\n",
            "25/25 - 1s - loss: 0.0578 - accuracy: 1.0000\n",
            "Epoch 15/20\n",
            "25/25 - 1s - loss: 0.1047 - accuracy: 0.9800\n",
            "Epoch 16/20\n",
            "25/25 - 1s - loss: 0.0903 - accuracy: 0.9600\n",
            "Epoch 17/20\n",
            "25/25 - 1s - loss: 0.0321 - accuracy: 1.0000\n",
            "Epoch 18/20\n",
            "25/25 - 1s - loss: 0.1397 - accuracy: 0.9400\n",
            "Epoch 19/20\n",
            "25/25 - 1s - loss: 0.1173 - accuracy: 0.9600\n",
            "Epoch 20/20\n",
            "25/25 - 1s - loss: 0.0695 - accuracy: 0.9800\n"
          ]
        },
        {
          "data": {
            "text/plain": [
              "<keras.callbacks.History at 0x7f53b26fd190>"
            ]
          },
          "execution_count": null,
          "metadata": {},
          "output_type": "execute_result"
        }
      ]
    },
    {
      "cell_type": "code",
      "metadata": {
        "id": "MW5aKy3Uv8gx"
      },
      "source": [
        ""
      ],
      "execution_count": null,
      "outputs": []
    }
  ]
}