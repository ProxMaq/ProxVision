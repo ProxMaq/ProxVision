{
 "cells": [
  {
   "cell_type": "code",
   "execution_count": 1,
   "id": "6c5ac858",
   "metadata": {},
   "outputs": [
    {
     "name": "stdout",
     "output_type": "stream",
     "text": [
      "Requirement already satisfied: SpeechRecognition in /usr/local/Cellar/jupyterlab/3.3.2/libexec/lib/python3.9/site-packages (3.8.1)\n",
      "\u001b[33mWARNING: You are using pip version 21.3.1; however, version 22.1.2 is available.\n",
      "You should consider upgrading via the '/usr/local/Cellar/jupyterlab/3.3.2/libexec/bin/python3.9 -m pip install --upgrade pip' command.\u001b[0m\n",
      "Note: you may need to restart the kernel to use updated packages.\n"
     ]
    }
   ],
   "source": [
    "pip install SpeechRecognition"
   ]
  },
  {
   "cell_type": "code",
   "execution_count": 2,
   "id": "7cd82792",
   "metadata": {},
   "outputs": [
    {
     "name": "stdout",
     "output_type": "stream",
     "text": [
      "Requirement already satisfied: pyttsx3 in /usr/local/Cellar/jupyterlab/3.3.2/libexec/lib/python3.9/site-packages (2.90)\n",
      "Requirement already satisfied: pyobjc>=2.4 in /usr/local/Cellar/jupyterlab/3.3.2/libexec/lib/python3.9/site-packages (from pyttsx3) (8.5)\n",
      "Requirement already satisfied: pyobjc-framework-SpriteKit==8.5 in /usr/local/Cellar/jupyterlab/3.3.2/libexec/lib/python3.9/site-packages (from pyobjc>=2.4->pyttsx3) (8.5)\n",
      "Requirement already satisfied: pyobjc-framework-libdispatch==8.5 in /usr/local/Cellar/jupyterlab/3.3.2/libexec/lib/python3.9/site-packages (from pyobjc>=2.4->pyttsx3) (8.5)\n",
      "Requirement already satisfied: pyobjc-framework-DiscRecordingUI==8.5 in /usr/local/Cellar/jupyterlab/3.3.2/libexec/lib/python3.9/site-packages (from pyobjc>=2.4->pyttsx3) (8.5)\n",
      "Requirement already satisfied: pyobjc-framework-EventKit==8.5 in /usr/local/Cellar/jupyterlab/3.3.2/libexec/lib/python3.9/site-packages (from pyobjc>=2.4->pyttsx3) (8.5)\n",
      "Requirement already satisfied: pyobjc-framework-LaunchServices==8.5 in /usr/local/Cellar/jupyterlab/3.3.2/libexec/lib/python3.9/site-packages (from pyobjc>=2.4->pyttsx3) (8.5)\n",
      "Requirement already satisfied: pyobjc-framework-AVKit==8.5 in /usr/local/Cellar/jupyterlab/3.3.2/libexec/lib/python3.9/site-packages (from pyobjc>=2.4->pyttsx3) (8.5)\n",
      "Requirement already satisfied: pyobjc-framework-SearchKit==8.5 in /usr/local/Cellar/jupyterlab/3.3.2/libexec/lib/python3.9/site-packages (from pyobjc>=2.4->pyttsx3) (8.5)\n",
      "Requirement already satisfied: pyobjc-framework-CoreServices==8.5 in /usr/local/Cellar/jupyterlab/3.3.2/libexec/lib/python3.9/site-packages (from pyobjc>=2.4->pyttsx3) (8.5)\n",
      "Requirement already satisfied: pyobjc-framework-ScreenCaptureKit==8.5 in /usr/local/Cellar/jupyterlab/3.3.2/libexec/lib/python3.9/site-packages (from pyobjc>=2.4->pyttsx3) (8.5)\n",
      "Requirement already satisfied: pyobjc-framework-ColorSync==8.5 in /usr/local/Cellar/jupyterlab/3.3.2/libexec/lib/python3.9/site-packages (from pyobjc>=2.4->pyttsx3) (8.5)\n",
      "Requirement already satisfied: pyobjc-framework-UniformTypeIdentifiers==8.5 in /usr/local/Cellar/jupyterlab/3.3.2/libexec/lib/python3.9/site-packages (from pyobjc>=2.4->pyttsx3) (8.5)\n",
      "Requirement already satisfied: pyobjc-framework-SyncServices==8.5 in /usr/local/Cellar/jupyterlab/3.3.2/libexec/lib/python3.9/site-packages (from pyobjc>=2.4->pyttsx3) (8.5)\n",
      "Requirement already satisfied: pyobjc-framework-PassKit==8.5 in /usr/local/Cellar/jupyterlab/3.3.2/libexec/lib/python3.9/site-packages (from pyobjc>=2.4->pyttsx3) (8.5)\n",
      "Requirement already satisfied: pyobjc-framework-ExecutionPolicy==8.5 in /usr/local/Cellar/jupyterlab/3.3.2/libexec/lib/python3.9/site-packages (from pyobjc>=2.4->pyttsx3) (8.5)\n",
      "Requirement already satisfied: pyobjc-framework-CFNetwork==8.5 in /usr/local/Cellar/jupyterlab/3.3.2/libexec/lib/python3.9/site-packages (from pyobjc>=2.4->pyttsx3) (8.5)\n",
      "Requirement already satisfied: pyobjc-framework-MetalPerformanceShadersGraph==8.5 in /usr/local/Cellar/jupyterlab/3.3.2/libexec/lib/python3.9/site-packages (from pyobjc>=2.4->pyttsx3) (8.5)\n",
      "Requirement already satisfied: pyobjc-framework-MetalKit==8.5 in /usr/local/Cellar/jupyterlab/3.3.2/libexec/lib/python3.9/site-packages (from pyobjc>=2.4->pyttsx3) (8.5)\n",
      "Requirement already satisfied: pyobjc-framework-StoreKit==8.5 in /usr/local/Cellar/jupyterlab/3.3.2/libexec/lib/python3.9/site-packages (from pyobjc>=2.4->pyttsx3) (8.5)\n",
      "Requirement already satisfied: pyobjc-framework-CloudKit==8.5 in /usr/local/Cellar/jupyterlab/3.3.2/libexec/lib/python3.9/site-packages (from pyobjc>=2.4->pyttsx3) (8.5)\n",
      "Requirement already satisfied: pyobjc-framework-DiskArbitration==8.5 in /usr/local/Cellar/jupyterlab/3.3.2/libexec/lib/python3.9/site-packages (from pyobjc>=2.4->pyttsx3) (8.5)\n",
      "Requirement already satisfied: pyobjc-framework-MailKit==8.5 in /usr/local/Cellar/jupyterlab/3.3.2/libexec/lib/python3.9/site-packages (from pyobjc>=2.4->pyttsx3) (8.5)\n",
      "Requirement already satisfied: pyobjc-framework-SecurityInterface==8.5 in /usr/local/Cellar/jupyterlab/3.3.2/libexec/lib/python3.9/site-packages (from pyobjc>=2.4->pyttsx3) (8.5)\n",
      "Requirement already satisfied: pyobjc-framework-GameKit==8.5 in /usr/local/Cellar/jupyterlab/3.3.2/libexec/lib/python3.9/site-packages (from pyobjc>=2.4->pyttsx3) (8.5)\n",
      "Requirement already satisfied: pyobjc-framework-AudioVideoBridging==8.5 in /usr/local/Cellar/jupyterlab/3.3.2/libexec/lib/python3.9/site-packages (from pyobjc>=2.4->pyttsx3) (8.5)\n",
      "Requirement already satisfied: pyobjc-framework-FSEvents==8.5 in /usr/local/Cellar/jupyterlab/3.3.2/libexec/lib/python3.9/site-packages (from pyobjc>=2.4->pyttsx3) (8.5)\n",
      "Requirement already satisfied: pyobjc-framework-CoreWLAN==8.5 in /usr/local/Cellar/jupyterlab/3.3.2/libexec/lib/python3.9/site-packages (from pyobjc>=2.4->pyttsx3) (8.5)\n",
      "Requirement already satisfied: pyobjc-framework-InputMethodKit==8.5 in /usr/local/Cellar/jupyterlab/3.3.2/libexec/lib/python3.9/site-packages (from pyobjc>=2.4->pyttsx3) (8.5)\n",
      "Requirement already satisfied: pyobjc-framework-GameCenter==8.5 in /usr/local/Cellar/jupyterlab/3.3.2/libexec/lib/python3.9/site-packages (from pyobjc>=2.4->pyttsx3) (8.5)\n",
      "Requirement already satisfied: pyobjc-framework-DVDPlayback==8.5 in /usr/local/Cellar/jupyterlab/3.3.2/libexec/lib/python3.9/site-packages (from pyobjc>=2.4->pyttsx3) (8.5)\n",
      "Requirement already satisfied: pyobjc-framework-AppTrackingTransparency==8.5 in /usr/local/Cellar/jupyterlab/3.3.2/libexec/lib/python3.9/site-packages (from pyobjc>=2.4->pyttsx3) (8.5)\n",
      "Requirement already satisfied: pyobjc-framework-AVFoundation==8.5 in /usr/local/Cellar/jupyterlab/3.3.2/libexec/lib/python3.9/site-packages (from pyobjc>=2.4->pyttsx3) (8.5)\n",
      "Requirement already satisfied: pyobjc-framework-LocalAuthenticationEmbeddedUI==8.5 in /usr/local/Cellar/jupyterlab/3.3.2/libexec/lib/python3.9/site-packages (from pyobjc>=2.4->pyttsx3) (8.5)\n",
      "Requirement already satisfied: pyobjc-framework-MediaPlayer==8.5 in /usr/local/Cellar/jupyterlab/3.3.2/libexec/lib/python3.9/site-packages (from pyobjc>=2.4->pyttsx3) (8.5)\n",
      "Requirement already satisfied: pyobjc-framework-AutomaticAssessmentConfiguration==8.5 in /usr/local/Cellar/jupyterlab/3.3.2/libexec/lib/python3.9/site-packages (from pyobjc>=2.4->pyttsx3) (8.5)\n",
      "Requirement already satisfied: pyobjc-framework-CallKit==8.5 in /usr/local/Cellar/jupyterlab/3.3.2/libexec/lib/python3.9/site-packages (from pyobjc>=2.4->pyttsx3) (8.5)\n",
      "Requirement already satisfied: pyobjc-framework-Photos==8.5 in /usr/local/Cellar/jupyterlab/3.3.2/libexec/lib/python3.9/site-packages (from pyobjc>=2.4->pyttsx3) (8.5)\n",
      "Requirement already satisfied: pyobjc-framework-ScriptingBridge==8.5 in /usr/local/Cellar/jupyterlab/3.3.2/libexec/lib/python3.9/site-packages (from pyobjc>=2.4->pyttsx3) (8.5)\n",
      "Requirement already satisfied: pyobjc-framework-ShazamKit==8.5 in /usr/local/Cellar/jupyterlab/3.3.2/libexec/lib/python3.9/site-packages (from pyobjc>=2.4->pyttsx3) (8.5)\n",
      "Requirement already satisfied: pyobjc-framework-CoreAudio==8.5 in /usr/local/Cellar/jupyterlab/3.3.2/libexec/lib/python3.9/site-packages (from pyobjc>=2.4->pyttsx3) (8.5)\n",
      "Requirement already satisfied: pyobjc-framework-Security==8.5 in /usr/local/Cellar/jupyterlab/3.3.2/libexec/lib/python3.9/site-packages (from pyobjc>=2.4->pyttsx3) (8.5)\n",
      "Requirement already satisfied: pyobjc-framework-VideoSubscriberAccount==8.5 in /usr/local/Cellar/jupyterlab/3.3.2/libexec/lib/python3.9/site-packages (from pyobjc>=2.4->pyttsx3) (8.5)\n",
      "Requirement already satisfied: pyobjc-framework-CoreMediaIO==8.5 in /usr/local/Cellar/jupyterlab/3.3.2/libexec/lib/python3.9/site-packages (from pyobjc>=2.4->pyttsx3) (8.5)\n",
      "Requirement already satisfied: pyobjc-framework-SecurityFoundation==8.5 in /usr/local/Cellar/jupyterlab/3.3.2/libexec/lib/python3.9/site-packages (from pyobjc>=2.4->pyttsx3) (8.5)\n",
      "Requirement already satisfied: pyobjc-framework-AppleScriptKit==8.5 in /usr/local/Cellar/jupyterlab/3.3.2/libexec/lib/python3.9/site-packages (from pyobjc>=2.4->pyttsx3) (8.5)\n",
      "Requirement already satisfied: pyobjc-framework-IntentsUI==8.5 in /usr/local/Cellar/jupyterlab/3.3.2/libexec/lib/python3.9/site-packages (from pyobjc>=2.4->pyttsx3) (8.5)\n",
      "Requirement already satisfied: pyobjc-framework-AdSupport==8.5 in /usr/local/Cellar/jupyterlab/3.3.2/libexec/lib/python3.9/site-packages (from pyobjc>=2.4->pyttsx3) (8.5)\n",
      "Requirement already satisfied: pyobjc-framework-Contacts==8.5 in /usr/local/Cellar/jupyterlab/3.3.2/libexec/lib/python3.9/site-packages (from pyobjc>=2.4->pyttsx3) (8.5)\n",
      "Requirement already satisfied: pyobjc-framework-MLCompute==8.5 in /usr/local/Cellar/jupyterlab/3.3.2/libexec/lib/python3.9/site-packages (from pyobjc>=2.4->pyttsx3) (8.5)\n",
      "Requirement already satisfied: pyobjc-framework-IOSurface==8.5 in /usr/local/Cellar/jupyterlab/3.3.2/libexec/lib/python3.9/site-packages (from pyobjc>=2.4->pyttsx3) (8.5)\n",
      "Requirement already satisfied: pyobjc-framework-UserNotifications==8.5 in /usr/local/Cellar/jupyterlab/3.3.2/libexec/lib/python3.9/site-packages (from pyobjc>=2.4->pyttsx3) (8.5)\n",
      "Requirement already satisfied: pyobjc-framework-Quartz==8.5 in /usr/local/Cellar/jupyterlab/3.3.2/libexec/lib/python3.9/site-packages (from pyobjc>=2.4->pyttsx3) (8.5)\n",
      "Requirement already satisfied: pyobjc-framework-MultipeerConnectivity==8.5 in /usr/local/Cellar/jupyterlab/3.3.2/libexec/lib/python3.9/site-packages (from pyobjc>=2.4->pyttsx3) (8.5)\n",
      "Requirement already satisfied: pyobjc-framework-OSLog==8.5 in /usr/local/Cellar/jupyterlab/3.3.2/libexec/lib/python3.9/site-packages (from pyobjc>=2.4->pyttsx3) (8.5)\n",
      "Requirement already satisfied: pyobjc-framework-MediaLibrary==8.5 in /usr/local/Cellar/jupyterlab/3.3.2/libexec/lib/python3.9/site-packages (from pyobjc>=2.4->pyttsx3) (8.5)\n",
      "Requirement already satisfied: pyobjc-framework-BusinessChat==8.5 in /usr/local/Cellar/jupyterlab/3.3.2/libexec/lib/python3.9/site-packages (from pyobjc>=2.4->pyttsx3) (8.5)\n",
      "Requirement already satisfied: pyobjc-framework-LocalAuthentication==8.5 in /usr/local/Cellar/jupyterlab/3.3.2/libexec/lib/python3.9/site-packages (from pyobjc>=2.4->pyttsx3) (8.5)\n",
      "Requirement already satisfied: pyobjc-framework-Speech==8.5 in /usr/local/Cellar/jupyterlab/3.3.2/libexec/lib/python3.9/site-packages (from pyobjc>=2.4->pyttsx3) (8.5)\n",
      "Requirement already satisfied: pyobjc-core==8.5 in /usr/local/Cellar/jupyterlab/3.3.2/libexec/lib/python3.9/site-packages (from pyobjc>=2.4->pyttsx3) (8.5)\n",
      "Requirement already satisfied: pyobjc-framework-QuickLookThumbnailing==8.5 in /usr/local/Cellar/jupyterlab/3.3.2/libexec/lib/python3.9/site-packages (from pyobjc>=2.4->pyttsx3) (8.5)\n",
      "Requirement already satisfied: pyobjc-framework-DataDetection==8.5 in /usr/local/Cellar/jupyterlab/3.3.2/libexec/lib/python3.9/site-packages (from pyobjc>=2.4->pyttsx3) (8.5)\n",
      "Requirement already satisfied: pyobjc-framework-ServiceManagement==8.5 in /usr/local/Cellar/jupyterlab/3.3.2/libexec/lib/python3.9/site-packages (from pyobjc>=2.4->pyttsx3) (8.5)\n",
      "Requirement already satisfied: pyobjc-framework-GameController==8.5 in /usr/local/Cellar/jupyterlab/3.3.2/libexec/lib/python3.9/site-packages (from pyobjc>=2.4->pyttsx3) (8.5)\n",
      "Requirement already satisfied: pyobjc-framework-NaturalLanguage==8.5 in /usr/local/Cellar/jupyterlab/3.3.2/libexec/lib/python3.9/site-packages (from pyobjc>=2.4->pyttsx3) (8.5)\n",
      "Requirement already satisfied: pyobjc-framework-IMServicePlugIn==8.5 in /usr/local/Cellar/jupyterlab/3.3.2/libexec/lib/python3.9/site-packages (from pyobjc>=2.4->pyttsx3) (8.5)\n",
      "Requirement already satisfied: pyobjc-framework-MediaAccessibility==8.5 in /usr/local/Cellar/jupyterlab/3.3.2/libexec/lib/python3.9/site-packages (from pyobjc>=2.4->pyttsx3) (8.5)\n",
      "Requirement already satisfied: pyobjc-framework-ImageCaptureCore==8.5 in /usr/local/Cellar/jupyterlab/3.3.2/libexec/lib/python3.9/site-packages (from pyobjc>=2.4->pyttsx3) (8.5)\n"
     ]
    },
    {
     "name": "stdout",
     "output_type": "stream",
     "text": [
      "Requirement already satisfied: pyobjc-framework-Network==8.5 in /usr/local/Cellar/jupyterlab/3.3.2/libexec/lib/python3.9/site-packages (from pyobjc>=2.4->pyttsx3) (8.5)\n",
      "Requirement already satisfied: pyobjc-framework-SystemExtensions==8.5 in /usr/local/Cellar/jupyterlab/3.3.2/libexec/lib/python3.9/site-packages (from pyobjc>=2.4->pyttsx3) (8.5)\n",
      "Requirement already satisfied: pyobjc-framework-InstantMessage==8.5 in /usr/local/Cellar/jupyterlab/3.3.2/libexec/lib/python3.9/site-packages (from pyobjc>=2.4->pyttsx3) (8.5)\n",
      "Requirement already satisfied: pyobjc-framework-CoreHaptics==8.5 in /usr/local/Cellar/jupyterlab/3.3.2/libexec/lib/python3.9/site-packages (from pyobjc>=2.4->pyttsx3) (8.5)\n",
      "Requirement already satisfied: pyobjc-framework-ScreenSaver==8.5 in /usr/local/Cellar/jupyterlab/3.3.2/libexec/lib/python3.9/site-packages (from pyobjc>=2.4->pyttsx3) (8.5)\n",
      "Requirement already satisfied: pyobjc-framework-CalendarStore==8.5 in /usr/local/Cellar/jupyterlab/3.3.2/libexec/lib/python3.9/site-packages (from pyobjc>=2.4->pyttsx3) (8.5)\n",
      "Requirement already satisfied: pyobjc-framework-DeviceCheck==8.5 in /usr/local/Cellar/jupyterlab/3.3.2/libexec/lib/python3.9/site-packages (from pyobjc>=2.4->pyttsx3) (8.5)\n",
      "Requirement already satisfied: pyobjc-framework-SafariServices==8.5 in /usr/local/Cellar/jupyterlab/3.3.2/libexec/lib/python3.9/site-packages (from pyobjc>=2.4->pyttsx3) (8.5)\n",
      "Requirement already satisfied: pyobjc-framework-Virtualization==8.5 in /usr/local/Cellar/jupyterlab/3.3.2/libexec/lib/python3.9/site-packages (from pyobjc>=2.4->pyttsx3) (8.5)\n",
      "Requirement already satisfied: pyobjc-framework-ExternalAccessory==8.5 in /usr/local/Cellar/jupyterlab/3.3.2/libexec/lib/python3.9/site-packages (from pyobjc>=2.4->pyttsx3) (8.5)\n",
      "Requirement already satisfied: pyobjc-framework-CoreSpotlight==8.5 in /usr/local/Cellar/jupyterlab/3.3.2/libexec/lib/python3.9/site-packages (from pyobjc>=2.4->pyttsx3) (8.5)\n",
      "Requirement already satisfied: pyobjc-framework-ExceptionHandling==8.5 in /usr/local/Cellar/jupyterlab/3.3.2/libexec/lib/python3.9/site-packages (from pyobjc>=2.4->pyttsx3) (8.5)\n",
      "Requirement already satisfied: pyobjc-framework-PushKit==8.5 in /usr/local/Cellar/jupyterlab/3.3.2/libexec/lib/python3.9/site-packages (from pyobjc>=2.4->pyttsx3) (8.5)\n",
      "Requirement already satisfied: pyobjc-framework-SceneKit==8.5 in /usr/local/Cellar/jupyterlab/3.3.2/libexec/lib/python3.9/site-packages (from pyobjc>=2.4->pyttsx3) (8.5)\n",
      "Requirement already satisfied: pyobjc-framework-ContactsUI==8.5 in /usr/local/Cellar/jupyterlab/3.3.2/libexec/lib/python3.9/site-packages (from pyobjc>=2.4->pyttsx3) (8.5)\n",
      "Requirement already satisfied: pyobjc-framework-SystemConfiguration==8.5 in /usr/local/Cellar/jupyterlab/3.3.2/libexec/lib/python3.9/site-packages (from pyobjc>=2.4->pyttsx3) (8.5)\n",
      "Requirement already satisfied: pyobjc-framework-GameplayKit==8.5 in /usr/local/Cellar/jupyterlab/3.3.2/libexec/lib/python3.9/site-packages (from pyobjc>=2.4->pyttsx3) (8.5)\n",
      "Requirement already satisfied: pyobjc-framework-Vision==8.5 in /usr/local/Cellar/jupyterlab/3.3.2/libexec/lib/python3.9/site-packages (from pyobjc>=2.4->pyttsx3) (8.5)\n",
      "Requirement already satisfied: pyobjc-framework-Collaboration==8.5 in /usr/local/Cellar/jupyterlab/3.3.2/libexec/lib/python3.9/site-packages (from pyobjc>=2.4->pyttsx3) (8.5)\n",
      "Requirement already satisfied: pyobjc-framework-Metal==8.5 in /usr/local/Cellar/jupyterlab/3.3.2/libexec/lib/python3.9/site-packages (from pyobjc>=2.4->pyttsx3) (8.5)\n",
      "Requirement already satisfied: pyobjc-framework-ScreenTime==8.5 in /usr/local/Cellar/jupyterlab/3.3.2/libexec/lib/python3.9/site-packages (from pyobjc>=2.4->pyttsx3) (8.5)\n",
      "Requirement already satisfied: pyobjc-framework-Automator==8.5 in /usr/local/Cellar/jupyterlab/3.3.2/libexec/lib/python3.9/site-packages (from pyobjc>=2.4->pyttsx3) (8.5)\n",
      "Requirement already satisfied: pyobjc-framework-MetricKit==8.5 in /usr/local/Cellar/jupyterlab/3.3.2/libexec/lib/python3.9/site-packages (from pyobjc>=2.4->pyttsx3) (8.5)\n",
      "Requirement already satisfied: pyobjc-framework-iTunesLibrary==8.5 in /usr/local/Cellar/jupyterlab/3.3.2/libexec/lib/python3.9/site-packages (from pyobjc>=2.4->pyttsx3) (8.5)\n",
      "Requirement already satisfied: pyobjc-framework-CoreMotion==8.5 in /usr/local/Cellar/jupyterlab/3.3.2/libexec/lib/python3.9/site-packages (from pyobjc>=2.4->pyttsx3) (8.5)\n",
      "Requirement already satisfied: pyobjc-framework-AppleScriptObjC==8.5 in /usr/local/Cellar/jupyterlab/3.3.2/libexec/lib/python3.9/site-packages (from pyobjc>=2.4->pyttsx3) (8.5)\n",
      "Requirement already satisfied: pyobjc-framework-CoreAudioKit==8.5 in /usr/local/Cellar/jupyterlab/3.3.2/libexec/lib/python3.9/site-packages (from pyobjc>=2.4->pyttsx3) (8.5)\n",
      "Requirement already satisfied: pyobjc-framework-NetworkExtension==8.5 in /usr/local/Cellar/jupyterlab/3.3.2/libexec/lib/python3.9/site-packages (from pyobjc>=2.4->pyttsx3) (8.5)\n",
      "Requirement already satisfied: pyobjc-framework-VideoToolbox==8.5 in /usr/local/Cellar/jupyterlab/3.3.2/libexec/lib/python3.9/site-packages (from pyobjc>=2.4->pyttsx3) (8.5)\n",
      "Requirement already satisfied: pyobjc-framework-ApplicationServices==8.5 in /usr/local/Cellar/jupyterlab/3.3.2/libexec/lib/python3.9/site-packages (from pyobjc>=2.4->pyttsx3) (8.5)\n",
      "Requirement already satisfied: pyobjc-framework-KernelManagement==8.5 in /usr/local/Cellar/jupyterlab/3.3.2/libexec/lib/python3.9/site-packages (from pyobjc>=2.4->pyttsx3) (8.5)\n",
      "Requirement already satisfied: pyobjc-framework-NotificationCenter==8.5 in /usr/local/Cellar/jupyterlab/3.3.2/libexec/lib/python3.9/site-packages (from pyobjc>=2.4->pyttsx3) (8.5)\n",
      "Requirement already satisfied: pyobjc-framework-CoreMIDI==8.5 in /usr/local/Cellar/jupyterlab/3.3.2/libexec/lib/python3.9/site-packages (from pyobjc>=2.4->pyttsx3) (8.5)\n",
      "Requirement already satisfied: pyobjc-framework-DiscRecording==8.5 in /usr/local/Cellar/jupyterlab/3.3.2/libexec/lib/python3.9/site-packages (from pyobjc>=2.4->pyttsx3) (8.5)\n",
      "Requirement already satisfied: pyobjc-framework-CoreText==8.5 in /usr/local/Cellar/jupyterlab/3.3.2/libexec/lib/python3.9/site-packages (from pyobjc>=2.4->pyttsx3) (8.5)\n",
      "Requirement already satisfied: pyobjc-framework-UserNotificationsUI==8.5 in /usr/local/Cellar/jupyterlab/3.3.2/libexec/lib/python3.9/site-packages (from pyobjc>=2.4->pyttsx3) (8.5)\n",
      "Requirement already satisfied: pyobjc-framework-Accounts==8.5 in /usr/local/Cellar/jupyterlab/3.3.2/libexec/lib/python3.9/site-packages (from pyobjc>=2.4->pyttsx3) (8.5)\n",
      "Requirement already satisfied: pyobjc-framework-PhotosUI==8.5 in /usr/local/Cellar/jupyterlab/3.3.2/libexec/lib/python3.9/site-packages (from pyobjc>=2.4->pyttsx3) (8.5)\n",
      "Requirement already satisfied: pyobjc-framework-PreferencePanes==8.5 in /usr/local/Cellar/jupyterlab/3.3.2/libexec/lib/python3.9/site-packages (from pyobjc>=2.4->pyttsx3) (8.5)\n",
      "Requirement already satisfied: pyobjc-framework-ReplayKit==8.5 in /usr/local/Cellar/jupyterlab/3.3.2/libexec/lib/python3.9/site-packages (from pyobjc>=2.4->pyttsx3) (8.5)\n",
      "Requirement already satisfied: pyobjc-framework-PencilKit==8.5 in /usr/local/Cellar/jupyterlab/3.3.2/libexec/lib/python3.9/site-packages (from pyobjc>=2.4->pyttsx3) (8.5)\n",
      "Requirement already satisfied: pyobjc-framework-FileProvider==8.5 in /usr/local/Cellar/jupyterlab/3.3.2/libexec/lib/python3.9/site-packages (from pyobjc>=2.4->pyttsx3) (8.5)\n",
      "Requirement already satisfied: pyobjc-framework-AuthenticationServices==8.5 in /usr/local/Cellar/jupyterlab/3.3.2/libexec/lib/python3.9/site-packages (from pyobjc>=2.4->pyttsx3) (8.5)\n",
      "Requirement already satisfied: pyobjc-framework-CoreLocation==8.5 in /usr/local/Cellar/jupyterlab/3.3.2/libexec/lib/python3.9/site-packages (from pyobjc>=2.4->pyttsx3) (8.5)\n",
      "Requirement already satisfied: pyobjc-framework-FileProviderUI==8.5 in /usr/local/Cellar/jupyterlab/3.3.2/libexec/lib/python3.9/site-packages (from pyobjc>=2.4->pyttsx3) (8.5)\n",
      "Requirement already satisfied: pyobjc-framework-OSAKit==8.5 in /usr/local/Cellar/jupyterlab/3.3.2/libexec/lib/python3.9/site-packages (from pyobjc>=2.4->pyttsx3) (8.5)\n",
      "Requirement already satisfied: pyobjc-framework-Intents==8.5 in /usr/local/Cellar/jupyterlab/3.3.2/libexec/lib/python3.9/site-packages (from pyobjc>=2.4->pyttsx3) (8.5)\n",
      "Requirement already satisfied: pyobjc-framework-MapKit==8.5 in /usr/local/Cellar/jupyterlab/3.3.2/libexec/lib/python3.9/site-packages (from pyobjc>=2.4->pyttsx3) (8.5)\n",
      "Requirement already satisfied: pyobjc-framework-MediaToolbox==8.5 in /usr/local/Cellar/jupyterlab/3.3.2/libexec/lib/python3.9/site-packages (from pyobjc>=2.4->pyttsx3) (8.5)\n",
      "Requirement already satisfied: pyobjc-framework-AddressBook==8.5 in /usr/local/Cellar/jupyterlab/3.3.2/libexec/lib/python3.9/site-packages (from pyobjc>=2.4->pyttsx3) (8.5)\n",
      "Requirement already satisfied: pyobjc-framework-CryptoTokenKit==8.5 in /usr/local/Cellar/jupyterlab/3.3.2/libexec/lib/python3.9/site-packages (from pyobjc>=2.4->pyttsx3) (8.5)\n",
      "Requirement already satisfied: pyobjc-framework-DictionaryServices==8.5 in /usr/local/Cellar/jupyterlab/3.3.2/libexec/lib/python3.9/site-packages (from pyobjc>=2.4->pyttsx3) (8.5)\n",
      "Requirement already satisfied: pyobjc-framework-Accessibility==8.5 in /usr/local/Cellar/jupyterlab/3.3.2/libexec/lib/python3.9/site-packages (from pyobjc>=2.4->pyttsx3) (8.5)\n",
      "Requirement already satisfied: pyobjc-framework-NetFS==8.5 in /usr/local/Cellar/jupyterlab/3.3.2/libexec/lib/python3.9/site-packages (from pyobjc>=2.4->pyttsx3) (8.5)\n",
      "Requirement already satisfied: pyobjc-framework-InstallerPlugins==8.5 in /usr/local/Cellar/jupyterlab/3.3.2/libexec/lib/python3.9/site-packages (from pyobjc>=2.4->pyttsx3) (8.5)\n",
      "Requirement already satisfied: pyobjc-framework-CoreMedia==8.5 in /usr/local/Cellar/jupyterlab/3.3.2/libexec/lib/python3.9/site-packages (from pyobjc>=2.4->pyttsx3) (8.5)\n",
      "Requirement already satisfied: pyobjc-framework-AdServices==8.5 in /usr/local/Cellar/jupyterlab/3.3.2/libexec/lib/python3.9/site-packages (from pyobjc>=2.4->pyttsx3) (8.5)\n",
      "Requirement already satisfied: pyobjc-framework-Cocoa==8.5 in /usr/local/Cellar/jupyterlab/3.3.2/libexec/lib/python3.9/site-packages (from pyobjc>=2.4->pyttsx3) (8.5)\n",
      "Requirement already satisfied: pyobjc-framework-WebKit==8.5 in /usr/local/Cellar/jupyterlab/3.3.2/libexec/lib/python3.9/site-packages (from pyobjc>=2.4->pyttsx3) (8.5)\n",
      "Requirement already satisfied: pyobjc-framework-ModelIO==8.5 in /usr/local/Cellar/jupyterlab/3.3.2/libexec/lib/python3.9/site-packages (from pyobjc>=2.4->pyttsx3) (8.5)\n",
      "Requirement already satisfied: pyobjc-framework-OpenDirectory==8.5 in /usr/local/Cellar/jupyterlab/3.3.2/libexec/lib/python3.9/site-packages (from pyobjc>=2.4->pyttsx3) (8.5)\n",
      "Requirement already satisfied: pyobjc-framework-ClassKit==8.5 in /usr/local/Cellar/jupyterlab/3.3.2/libexec/lib/python3.9/site-packages (from pyobjc>=2.4->pyttsx3) (8.5)\n",
      "Requirement already satisfied: pyobjc-framework-MetalPerformanceShaders==8.5 in /usr/local/Cellar/jupyterlab/3.3.2/libexec/lib/python3.9/site-packages (from pyobjc>=2.4->pyttsx3) (8.5)\n",
      "Requirement already satisfied: pyobjc-framework-SoundAnalysis==8.5 in /usr/local/Cellar/jupyterlab/3.3.2/libexec/lib/python3.9/site-packages (from pyobjc>=2.4->pyttsx3) (8.5)\n",
      "Requirement already satisfied: pyobjc-framework-CoreData==8.5 in /usr/local/Cellar/jupyterlab/3.3.2/libexec/lib/python3.9/site-packages (from pyobjc>=2.4->pyttsx3) (8.5)\n",
      "Requirement already satisfied: pyobjc-framework-CoreBluetooth==8.5 in /usr/local/Cellar/jupyterlab/3.3.2/libexec/lib/python3.9/site-packages (from pyobjc>=2.4->pyttsx3) (8.5)\n",
      "Requirement already satisfied: pyobjc-framework-LinkPresentation==8.5 in /usr/local/Cellar/jupyterlab/3.3.2/libexec/lib/python3.9/site-packages (from pyobjc>=2.4->pyttsx3) (8.5)\n",
      "Requirement already satisfied: pyobjc-framework-Social==8.5 in /usr/local/Cellar/jupyterlab/3.3.2/libexec/lib/python3.9/site-packages (from pyobjc>=2.4->pyttsx3) (8.5)\n",
      "Requirement already satisfied: pyobjc-framework-FinderSync==8.5 in /usr/local/Cellar/jupyterlab/3.3.2/libexec/lib/python3.9/site-packages (from pyobjc>=2.4->pyttsx3) (8.5)\n",
      "Requirement already satisfied: pyobjc-framework-LatentSemanticMapping==8.5 in /usr/local/Cellar/jupyterlab/3.3.2/libexec/lib/python3.9/site-packages (from pyobjc>=2.4->pyttsx3) (8.5)\n",
      "Requirement already satisfied: pyobjc-framework-CoreML==8.5 in /usr/local/Cellar/jupyterlab/3.3.2/libexec/lib/python3.9/site-packages (from pyobjc>=2.4->pyttsx3) (8.5)\n"
     ]
    },
    {
     "name": "stdout",
     "output_type": "stream",
     "text": [
      "\u001b[33mWARNING: You are using pip version 21.3.1; however, version 22.1.2 is available.\n",
      "You should consider upgrading via the '/usr/local/Cellar/jupyterlab/3.3.2/libexec/bin/python3.9 -m pip install --upgrade pip' command.\u001b[0m\n",
      "Note: you may need to restart the kernel to use updated packages.\n"
     ]
    }
   ],
   "source": [
    "pip install pyttsx3"
   ]
  },
  {
   "cell_type": "code",
   "execution_count": 3,
   "id": "b204e13e",
   "metadata": {},
   "outputs": [
    {
     "name": "stdout",
     "output_type": "stream",
     "text": [
      "pygame 2.1.2 (SDL 2.0.18, Python 3.9.13)\n",
      "Hello from the pygame community. https://www.pygame.org/contribute.html\n"
     ]
    }
   ],
   "source": [
    "import pyttsx3 as p\n",
    "import playsound\n",
    "import speech_recognition as sr\n",
    "from gtts import gTTS\n",
    "import json\n",
    "from pygame import mixer\n",
    "import re"
   ]
  },
  {
   "cell_type": "code",
   "execution_count": 4,
   "id": "2be6a3cc",
   "metadata": {},
   "outputs": [],
   "source": [
    "r = sr.Recognizer()"
   ]
  },
  {
   "cell_type": "code",
   "execution_count": 5,
   "id": "6a86ddd0",
   "metadata": {},
   "outputs": [],
   "source": [
    "def speak(text):\n",
    "    tts = gTTS(text=text)\n",
    "    filename = \"voice.mp3\"\n",
    "    tts.save(filename)\n",
    "    playsound.playsound(filename)"
   ]
  },
  {
   "cell_type": "code",
   "execution_count": 6,
   "id": "b1c8ec55",
   "metadata": {},
   "outputs": [],
   "source": [
    "def speak_listen(speaks):\n",
    "    with sr.Microphone() as source:\n",
    "        speak(speaks)\n",
    "        text = r.listen(source)\n",
    "        print(text)\n",
    "        recognised_num = \"\"\n",
    "        try:\n",
    "            recognised_num = r.recognize_google(text)\n",
    "            print(recognised_num)\n",
    "        except Exception as e:\n",
    "            print(e)\n",
    "            \n",
    "    return recognised_num"
   ]
  },
  {
   "cell_type": "code",
   "execution_count": 7,
   "id": "b42f86e9",
   "metadata": {},
   "outputs": [],
   "source": [
    "def listen():\n",
    "    with sr.Microphone() as source:\n",
    "        audio = r.listen(source)\n",
    "        said = \"\"\n",
    "        try:\n",
    "            said = r.recognize_google(audio)\n",
    "            return said\n",
    "        except Exception as e:\n",
    "            print(e)\n",
    "            \n",
    "    return said"
   ]
  },
  {
   "cell_type": "code",
   "execution_count": 8,
   "id": "b1f48f48",
   "metadata": {},
   "outputs": [],
   "source": [
    "def confirm(name_phonenumber, value):\n",
    "    with sr.Microphone() as source:\n",
    "        speak(\"Please say Yes if the {} is {}\".format(name_phonenumber, value))\n",
    "        audio = r.listen(source)\n",
    "        said = \"\"\n",
    "        try:\n",
    "            said = r.recognize_google(audio)\n",
    "            return said\n",
    "            #print(said)\n",
    "        except Exception as e:\n",
    "            print(e)\n",
    "            \n",
    "    return said"
   ]
  },
  {
   "cell_type": "code",
   "execution_count": 9,
   "id": "c7f834a1",
   "metadata": {},
   "outputs": [],
   "source": [
    "def retrive_phone_number(contact_name):\n",
    "        with open(\"contact_book.json\", \"r\") as f:\n",
    "            data = f.read()\n",
    "            f.close()\n",
    "\n",
    "        data = json.loads(data)\n",
    "        for name in data:\n",
    "            if name['Name'] == contact_name:\n",
    "                is_audio_call = speak_listen(\"please say yes if you want audio call\")\n",
    "                if is_audio_call == \"yes\":\n",
    "                    print(\"connect to 4g audio call\")\n",
    "                else:\n",
    "                    is_video_call = speak_listen(\"please say yes if you want video call\")\n",
    "                    if is_video_call == \"yes\":\n",
    "                        print(\"connect to 4g video call\")\n",
    "                    else:\n",
    "                        print(\"Go to main screen\")"
   ]
  },
  {
   "cell_type": "code",
   "execution_count": 12,
   "id": "f6725cc1",
   "metadata": {},
   "outputs": [
    {
     "name": "stdout",
     "output_type": "stream",
     "text": [
      "please call James Bond\n",
      "james bond\n",
      "<speech_recognition.AudioData object at 0x115719880>\n",
      "\n",
      "<speech_recognition.AudioData object at 0x11781fca0>\n",
      "\n",
      "Go to main screen\n"
     ]
    }
   ],
   "source": [
    "mixer.init() \n",
    "beep=mixer.Sound(\"beep.mp3\")\n",
    "beep.play()\n",
    "\n",
    "contact_name = listen()\n",
    "print(contact_name)\n",
    "contact_name = re.search(\"please call (.*)\", contact_name).group(1).lower()\n",
    "print(contact_name)\n",
    "retrive_phone_number(contact_name)"
   ]
  },
  {
   "cell_type": "code",
   "execution_count": null,
   "id": "2ddb186f",
   "metadata": {},
   "outputs": [],
   "source": []
  },
  {
   "cell_type": "code",
   "execution_count": null,
   "id": "cd485bfe",
   "metadata": {},
   "outputs": [],
   "source": []
  }
 ],
 "metadata": {
  "kernelspec": {
   "display_name": "Python 3 (ipykernel)",
   "language": "python",
   "name": "python3"
  },
  "language_info": {
   "codemirror_mode": {
    "name": "ipython",
    "version": 3
   },
   "file_extension": ".py",
   "mimetype": "text/x-python",
   "name": "python",
   "nbconvert_exporter": "python",
   "pygments_lexer": "ipython3",
   "version": "3.9.13"
  }
 },
 "nbformat": 4,
 "nbformat_minor": 5
}
